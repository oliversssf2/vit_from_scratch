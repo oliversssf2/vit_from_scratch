{
 "cells": [
  {
   "cell_type": "code",
   "execution_count": 8,
   "metadata": {},
   "outputs": [],
   "source": [
    "import torch\n",
    "from torch import nn"
   ]
  },
  {
   "cell_type": "code",
   "execution_count": 4,
   "metadata": {},
   "outputs": [],
   "source": [
    "device='cuda:0'"
   ]
  },
  {
   "cell_type": "markdown",
   "metadata": {},
   "source": [
    "# Encoder Decoder Framework\n",
    "A transformer model [(paper: Attention is all you need)](https://arxiv.org/pdf/1706.03762.pdf) is consist of an encoder and a decoder. Therefore, we first build a general encoder-decoder backbone and test it.\n",
    "\n",
    "In pytorch, all models and components should be implemented by subclassing [torch.nn.Module](https://pytorch.org/docs/stable/generated/torch.nn.Module.html) instance. A `nn.Module` should at least contain a `__init__` and a `forward` function.\n",
    "\n",
    "Note that the decoder has its own inputs besides the encoder outputs as that is how the decoder is designed in the transformer paper."
   ]
  },
  {
   "cell_type": "code",
   "execution_count": 31,
   "metadata": {},
   "outputs": [],
   "source": [
    "class EncoderDecoderModel(nn.Module):\n",
    "    def __init__(self, encoder, decoder):\n",
    "        super().__init__()\n",
    "        self.encoder = encoder\n",
    "        self.decoder = decoder\n",
    "    \n",
    "    def forward(\n",
    "        self,\n",
    "        encoder_inputs = None,\n",
    "        decoder_inputs = None,\n",
    "        encoder_outputs = None,\n",
    "    ):\n",
    "        # Compute encoder outputs if it it not provided\n",
    "        if encoder_outputs is None:\n",
    "            encoder_outputs = self.encoder(\n",
    "                inputs=encoder_inputs, \n",
    "            )\n",
    "\n",
    "        # Compute decoder output with encoder outputs and \n",
    "        # decoder inputs\n",
    "        decoder_outputs = self.decoder(\n",
    "            inputs = decoder_inputs,\n",
    "            encoder_outputs = encoder_outputs,\n",
    "        )\n",
    "\n",
    "        # Return both encoder and decoder outputs\n",
    "        return {\n",
    "            \"encoder_outputs\": encoder_outputs,\n",
    "            \"decoder_outputs\": decoder_outputs,\n",
    "        }"
   ]
  },
  {
   "cell_type": "markdown",
   "metadata": {},
   "source": [
    "# Now let's build a dummy encoder and a dummy decoder to test the `EncoderDecoderModel`"
   ]
  },
  {
   "cell_type": "code",
   "execution_count": 32,
   "metadata": {},
   "outputs": [],
   "source": [
    "class DummyEncoder(nn.Module):\n",
    "    def __init__(self, dim_x, dim_y):\n",
    "        super().__init__()\n",
    "        self.l1 = nn.Linear(dim_x, dim_y)\n",
    "    \n",
    "    def forward(self, inputs):\n",
    "        hidden_states = self.l1(inputs)\n",
    "        return {\n",
    "            'hidden_states': hidden_states\n",
    "        }"
   ]
  },
  {
   "cell_type": "code",
   "execution_count": 33,
   "metadata": {},
   "outputs": [],
   "source": [
    "class DummyDecoder(nn.Module):\n",
    "    def __init__(self, dim_x, dim_y):\n",
    "        super().__init__()\n",
    "        self.l1 = nn.Linear(dim_x, dim_y)\n",
    "    \n",
    "    def forward(self, inputs, encoder_outputs):\n",
    "        encoder_hidden_states = encoder_outputs['hidden_states']\n",
    "        hidden_states = self.l1(inputs+encoder_hidden_states)\n",
    "        return {\n",
    "            'hidden_states': hidden_states\n",
    "        }"
   ]
  },
  {
   "cell_type": "markdown",
   "metadata": {},
   "source": [
    "# Now test the encoder decoder model with random inputs"
   ]
  },
  {
   "cell_type": "code",
   "execution_count": 34,
   "metadata": {},
   "outputs": [],
   "source": [
    "dummy_encoder = DummyEncoder(100, 100)\n",
    "dummy_decoder = DummyDecoder(100, 100)\n",
    "dummy_encoder_decoder = EncoderDecoderModel(\n",
    "    encoder=dummy_encoder,\n",
    "    decoder=dummy_decoder,\n",
    ")"
   ]
  },
  {
   "cell_type": "code",
   "execution_count": 35,
   "metadata": {},
   "outputs": [
    {
     "data": {
      "text/plain": [
       "EncoderDecoderModel(\n",
       "  (encoder): DummyEncoder(\n",
       "    (l1): Linear(in_features=100, out_features=100, bias=True)\n",
       "  )\n",
       "  (decoder): DummyDecoder(\n",
       "    (l1): Linear(in_features=100, out_features=100, bias=True)\n",
       "  )\n",
       ")"
      ]
     },
     "execution_count": 35,
     "metadata": {},
     "output_type": "execute_result"
    }
   ],
   "source": [
    "dummy_encoder_decoder.to(device)"
   ]
  },
  {
   "cell_type": "code",
   "execution_count": 36,
   "metadata": {},
   "outputs": [],
   "source": [
    "encoder_inputs = torch.rand((3,100), device=device)\n",
    "decoder_inputs = torch.rand((3,100), device=device)"
   ]
  },
  {
   "cell_type": "code",
   "execution_count": 43,
   "metadata": {},
   "outputs": [],
   "source": [
    "# Run forward pass and check output shape|\n",
    "forward_outputs_with_only_enc = dummy_encoder_decoder(encoder_inputs, decoder_inputs)\n",
    "assert forward_outputs_with_only_enc['decoder_outputs']['hidden_states'].shape == (3,100)"
   ]
  },
  {
   "cell_type": "code",
   "execution_count": 54,
   "metadata": {},
   "outputs": [
    {
     "name": "stdout",
     "output_type": "stream",
     "text": [
      "cuda:0\n",
      "cuda:0\n"
     ]
    }
   ],
   "source": [
    "print(forward_outputs_with_only_enc['encoder_outputs']['hidden_states'].device)\n",
    "print(forward_outputs_with_only_enc['decoder_outputs']['hidden_states'].device)"
   ]
  },
  {
   "cell_type": "code",
   "execution_count": 62,
   "metadata": {},
   "outputs": [],
   "source": [
    "# Make sure all model parameters are on gpu\n",
    "assert all([param.device.type=='cuda' for param in dummy_encoder_decoder.parameters()])"
   ]
  },
  {
   "cell_type": "code",
   "execution_count": null,
   "metadata": {},
   "outputs": [],
   "source": []
  }
 ],
 "metadata": {
  "kernelspec": {
   "display_name": "Python 3.10.4 ('vit')",
   "language": "python",
   "name": "python3"
  },
  "language_info": {
   "codemirror_mode": {
    "name": "ipython",
    "version": 3
   },
   "file_extension": ".py",
   "mimetype": "text/x-python",
   "name": "python",
   "nbconvert_exporter": "python",
   "pygments_lexer": "ipython3",
   "version": "3.10.4"
  },
  "orig_nbformat": 4,
  "vscode": {
   "interpreter": {
    "hash": "afa5cafc83a44ddc6a4432c58e27e1e59e90bf4b5432b3ef6f80dec7803e93f4"
   }
  }
 },
 "nbformat": 4,
 "nbformat_minor": 2
}
