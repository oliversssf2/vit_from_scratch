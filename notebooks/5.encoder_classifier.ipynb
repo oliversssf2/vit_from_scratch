{
 "cells": [
  {
   "cell_type": "markdown",
   "metadata": {},
   "source": [
    "# Encoder Classifer\n",
    "To sanity-check the transformer encoder, we'll build a simple classifier and make sure the model is able to overfit the data."
   ]
  },
  {
   "cell_type": "code",
   "execution_count": 21,
   "metadata": {},
   "outputs": [],
   "source": [
    "from vit.encoder import TransformerEncoder"
   ]
  },
  {
   "cell_type": "markdown",
   "metadata": {},
   "source": [
    "Now we build the classifer by adding a classifier head to the transformer encoder"
   ]
  },
  {
   "cell_type": "code",
   "execution_count": 16,
   "metadata": {},
   "outputs": [],
   "source": [
    "import torch \n",
    "from torch import nn\n",
    "from vit.encoder import TransformerEncoder\n",
    "class TransformerEncoderClassifer(nn.Module):\n",
    "    def __init__(\n",
    "        self, \n",
    "        vocab_size, \n",
    "        d_model, \n",
    "        num_layer, \n",
    "        num_head, \n",
    "        d_k, \n",
    "        dropout_rate,\n",
    "        num_class,\n",
    "    ) -> None:\n",
    "        super().__init__()\n",
    "        self.encoder = TransformerEncoder(\n",
    "            vocab_size=vocab_size, \n",
    "            d_model=d_model, \n",
    "            num_layer=num_layer, \n",
    "            num_head=num_head, \n",
    "            d_k=d_k, \n",
    "            dropout_rate=dropout_rate,\n",
    "        )\n",
    "        self.pre_classifier = nn.Linear(d_model, d_model)\n",
    "        self.classifier = nn.Linear(d_model, num_class)\n",
    "        self.dropout = nn.Dropout(dropout_rate)\n",
    "    \n",
    "    def forward(self, x, attn_mask=None):\n",
    "        # x: [batch_size, seq_len] -> [batch_size, seq_len, d_model]\n",
    "        x = self.encoder(x, attn_mask=attn_mask)\n",
    "        # Here we use the hidden_state of the first token as the input for\n",
    "        # classification\n",
    "        # x: [batch_size, seq_len, d_model] -> pooled_x: [batch_size, d,model]\n",
    "        pooled_x = x[:, 0]\n",
    "        pooled_x = self.pre_classifier(pooled_x)\n",
    "        pooled_x = nn.ReLU()(pooled_x)\n",
    "        pooled_x = self.dropout(pooled_x)\n",
    "        outputs = self.classifier(pooled_x)\n",
    "        return outputs\n"
   ]
  },
  {
   "cell_type": "code",
   "execution_count": 17,
   "metadata": {},
   "outputs": [],
   "source": [
    "def classifier_unit_test():\n",
    "    import torch\n",
    "    # from vit.encoder import TransformerEncoder\n",
    "    classifier = TransformerEncoderClassifer(1000, 512, 6, 8, 64, 0.1, 2).to('cpu') #[d_model, num_head, d_k]\n",
    "    dummy_inputs = torch.randint(0, 1000, (2, 128)).to('cpu') #[batch_size, seq_len]\n",
    "    dummy_attn_masks = torch.randint(0, 2, (2, 128)).to('cpu')\n",
    "    y = classifier(dummy_inputs)\n",
    "    loss = y.mean()\n",
    "    loss.backward()\n",
    "    for name, param in classifier.named_parameters():\n",
    "        # if param.grad is None:\n",
    "        #     print(name)\n",
    "        assert param.grad is not None"
   ]
  },
  {
   "cell_type": "code",
   "execution_count": 18,
   "metadata": {},
   "outputs": [],
   "source": [
    "classifier_unit_test()"
   ]
  },
  {
   "cell_type": "code",
   "execution_count": 19,
   "metadata": {},
   "outputs": [],
   "source": [
    "import torch\n",
    "# from vit.encoder import TransformerEncoder\n",
    "classifier = TransformerEncoderClassifer(1000, 512, 6, 8, 64, 0.1, 2).to('cpu') #[d_model, num_head, d_k]\n",
    "dummy_inputs = torch.randint(0, 1000, (2, 128)).to('cpu') #[batch_size, seq_len]\n",
    "dummy_attn_masks = torch.randint(0, 2, (2, 128)).to('cpu')\n",
    "y = classifier(dummy_inputs)"
   ]
  },
  {
   "cell_type": "code",
   "execution_count": 20,
   "metadata": {},
   "outputs": [
    {
     "data": {
      "text/plain": [
       "tensor([[-0.5664, -0.0010],\n",
       "        [-0.2738,  0.2188]], grad_fn=<AddmmBackward0>)"
      ]
     },
     "execution_count": 20,
     "metadata": {},
     "output_type": "execute_result"
    }
   ],
   "source": [
    "y"
   ]
  },
  {
   "cell_type": "code",
   "execution_count": null,
   "metadata": {},
   "outputs": [],
   "source": []
  }
 ],
 "metadata": {
  "kernelspec": {
   "display_name": "Python 3.10.4 ('vit')",
   "language": "python",
   "name": "python3"
  },
  "language_info": {
   "codemirror_mode": {
    "name": "ipython",
    "version": 3
   },
   "file_extension": ".py",
   "mimetype": "text/x-python",
   "name": "python",
   "nbconvert_exporter": "python",
   "pygments_lexer": "ipython3",
   "version": "3.10.4"
  },
  "orig_nbformat": 4,
  "vscode": {
   "interpreter": {
    "hash": "afa5cafc83a44ddc6a4432c58e27e1e59e90bf4b5432b3ef6f80dec7803e93f4"
   }
  }
 },
 "nbformat": 4,
 "nbformat_minor": 2
}
