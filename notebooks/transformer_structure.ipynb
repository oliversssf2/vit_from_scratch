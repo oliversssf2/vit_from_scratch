{
 "cells": [
  {
   "cell_type": "code",
   "execution_count": null,
   "metadata": {},
   "outputs": [],
   "source": []
  },
  {
   "cell_type": "markdown",
   "metadata": {},
   "source": [
    "# Transformer and ViT from scratch with pytorch\n",
    "In this repo, I'll implement the transformer model and the vit model from scratch using pytorch. I'll also try to pretrain a minimal version of both of them.\n",
    "![transformer](photos/Screenshot%20from%202022-09-07%2015-09-49.png)"
   ]
  },
  {
   "cell_type": "markdown",
   "metadata": {},
   "source": [
    "# Plan\n",
    "1. Build a general encoder-decoder framework with dummy components. Write test for sanity checking\n",
    "2. Implement the components one by one and write unit tests for each of them.\n",
    "3. Assemble a complete transformer and write integrated test.\n",
    "4. Build a pretraining head and write test for it\n",
    "5. Write pretraining loop and pretrain a minimal transformer model. "
   ]
  },
  {
   "cell_type": "markdown",
   "metadata": {},
   "source": []
  }
 ],
 "metadata": {
  "language_info": {
   "name": "python"
  },
  "orig_nbformat": 4
 },
 "nbformat": 4,
 "nbformat_minor": 2
}
