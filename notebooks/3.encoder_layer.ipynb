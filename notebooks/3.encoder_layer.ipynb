{
 "cells": [
  {
   "cell_type": "markdown",
   "metadata": {},
   "source": [
    "# Encoder Layer"
   ]
  },
  {
   "cell_type": "markdown",
   "metadata": {},
   "source": [
    "The transformer encoder is consist of n identical encoder layers according to the paper. In this notebook, we will build the encoder layer and write basic tests for it.\n",
    "\n",
    "Below is a diagram of the encoder layer.\n",
    "\n",
    "![encoder](./photos/Screenshot%20from%202022-09-07%2023-58-57.png)"
   ]
  },
  {
   "cell_type": "code",
   "execution_count": 3,
   "metadata": {},
   "outputs": [],
   "source": [
    "import torch\n",
    "from torch import nn\n",
    "from vit.multiheaded_attentions import MultiHeadAttention"
   ]
  },
  {
   "cell_type": "markdown",
   "metadata": {},
   "source": [
    "# Feed Forward Network (FFN) Implementation\n",
    "Let's first implement the feed forward network (FFN). According the the paper, the FFN is fully-connected, applied to each position separately and identically, and with a ReLU activation in between. \n",
    "\n",
    "$$FFN(x) = max(0, xW_1+b_1)W_2+b_2$$"
   ]
  },
  {
   "cell_type": "code",
   "execution_count": 4,
   "metadata": {},
   "outputs": [],
   "source": [
    "class FeedForwardNetword(nn.Module):\n",
    "    def __init__(self, d_model):\n",
    "        super().__init__()\n",
    "        self.d_model = d_model\n",
    "        self.l1 = nn.Linear(d_model, d_model)\n",
    "        self.l2 = nn.Linear(d_model, d_model)\n",
    "\n",
    "    def forward(self, x):\n",
    "        # x: [batch_size, seq_len, d_model]\n",
    "        return self.l2(nn.functional.relu(self.l1(x)))"
   ]
  },
  {
   "cell_type": "markdown",
   "metadata": {},
   "source": [
    "Now implement a simple unit test for the FFN. This test verifies gradient flows through the FFN"
   ]
  },
  {
   "cell_type": "code",
   "execution_count": 25,
   "metadata": {},
   "outputs": [],
   "source": [
    "def ffn_unit_test():\n",
    "    from vit.encoder import FeedForwardNetword\n",
    "    ffn = FeedForwardNetword(512).to('cpu') #[d_model]\n",
    "    dummy_inputs = torch.randn((2, 512)).to('cpu') #[batch_size, d_model]\n",
    "    y = ffn(dummy_inputs)\n",
    "    loss = y.mean()\n",
    "    loss.backward()\n",
    "    for name, param in ffn.named_parameters():\n",
    "        assert param.grad is not None"
   ]
  },
  {
   "cell_type": "code",
   "execution_count": 26,
   "metadata": {},
   "outputs": [],
   "source": [
    "ffn_unit_test()"
   ]
  },
  {
   "cell_type": "markdown",
   "metadata": {},
   "source": [
    "According to the paper, a residual connection is employed around each sub-layer, followed by a layer normalization. That is, the output of each sub-layer is\n",
    "\n",
    "$$LayerNorm(x + Sublayer(x))$$\n"
   ]
  },
  {
   "cell_type": "code",
   "execution_count": 17,
   "metadata": {},
   "outputs": [],
   "source": [
    "class EncoderLayer(nn.Module):\n",
    "    def __init__(self, d_model, num_head, d_k):\n",
    "        super().__init__()\n",
    "        self.self_attention = MultiHeadAttention(d_model, num_head, d_k)\n",
    "        self.ffn = FeedForwardNetword(d_model)\n",
    "        self.layer_norm = nn.LayerNorm(d_model)\n",
    "    \n",
    "    def forward(self, x):\n",
    "        # x: [batch_size, seq_len, d_model]\n",
    "        # attentions_outputs = self.self_attention(x)\n",
    "        outputs = self.self_attention(x)\n",
    "        # outputs = attentions_outputs['outputs']\n",
    "        outputs = self.layer_norm(x + outputs)\n",
    "        outputs = self.layer_norm(x + self.ffn(x))\n",
    "        return outputs\n"
   ]
  },
  {
   "cell_type": "code",
   "execution_count": 5,
   "metadata": {},
   "outputs": [],
   "source": [
    "encoder_layer = EncoderLayer(3,5,7)"
   ]
  },
  {
   "cell_type": "code",
   "execution_count": 6,
   "metadata": {},
   "outputs": [],
   "source": [
    "dummy_input = torch.randn(2, 11, 3) #[batch_size, seq_len, d_model]"
   ]
  },
  {
   "cell_type": "code",
   "execution_count": 7,
   "metadata": {},
   "outputs": [],
   "source": [
    "outputs = encoder_layer(dummy_input)"
   ]
  },
  {
   "cell_type": "code",
   "execution_count": 8,
   "metadata": {},
   "outputs": [],
   "source": [
    "assert outputs.shape == (2, 11, 3)"
   ]
  },
  {
   "cell_type": "code",
   "execution_count": 22,
   "metadata": {},
   "outputs": [],
   "source": [
    "def encoder_layer_unit_test():\n",
    "    from vit.encoder import EncoderLayer\n",
    "    encoder_layer = EncoderLayer(512, 8, 64).to('cpu') #[d_model, num_head, d_k]\n",
    "    dummy_inputs = torch.randn((2, 128, 512)).to('cpu') #[batch_size, seq_len, d_model]\n",
    "    y = encoder_layer(dummy_inputs)\n",
    "    loss = y.mean()\n",
    "    loss.backward()\n",
    "    for name, param in encoder_layer.named_parameters():\n",
    "        assert param.grad is not None"
   ]
  },
  {
   "cell_type": "code",
   "execution_count": 23,
   "metadata": {},
   "outputs": [],
   "source": [
    "encoder_layer_unit_test()"
   ]
  },
  {
   "cell_type": "markdown",
   "metadata": {},
   "source": [
    "# Encoder Stack"
   ]
  },
  {
   "cell_type": "markdown",
   "metadata": {},
   "source": [
    "Now let's stack encoder layers together to make the encoder stack! According to the paper, the encoder is composed of 6 identical layers."
   ]
  },
  {
   "cell_type": "code",
   "execution_count": 9,
   "metadata": {},
   "outputs": [],
   "source": [
    "class EncoderStack(nn.Module):\n",
    "    def __init__(self, num_layer, d_model, num_head, d_k):\n",
    "        super().__init__()\n",
    "        self.num_layer = num_layer\n",
    "        self.d_model = d_model\n",
    "        self.num_head = num_head\n",
    "        self.d_k = d_k\n",
    "        self.layers = nn.ModuleList([EncoderLayer(d_model, num_head, d_k) for i in range(num_layer)])\n",
    "\n",
    "    def forward(self, x):\n",
    "        for i, layer, in enumerate(self.layers):\n",
    "            x = layer(x)\n",
    "        return x"
   ]
  },
  {
   "cell_type": "code",
   "execution_count": 10,
   "metadata": {},
   "outputs": [],
   "source": [
    "encoder = EncoderStack(6, 3,5,7)"
   ]
  },
  {
   "cell_type": "code",
   "execution_count": 11,
   "metadata": {},
   "outputs": [],
   "source": [
    "encoder_outputs = encoder(dummy_input)"
   ]
  },
  {
   "cell_type": "code",
   "execution_count": 12,
   "metadata": {},
   "outputs": [
    {
     "data": {
      "text/plain": [
       "torch.Size([2, 11, 3])"
      ]
     },
     "execution_count": 12,
     "metadata": {},
     "output_type": "execute_result"
    }
   ],
   "source": [
    "encoder_outputs.shape"
   ]
  },
  {
   "cell_type": "code",
   "execution_count": 27,
   "metadata": {},
   "outputs": [],
   "source": [
    "def encoder_unit_test():\n",
    "    from vit.encoder import EncoderStack\n",
    "    encoder = EncoderLayer(512, 8, 64).to('cpu') #[d_model, num_head, d_k]\n",
    "    dummy_inputs = torch.randn((2, 128, 512)).to('cpu') #[batch_size, seq_len, d_model]\n",
    "    y = encoder(dummy_inputs)\n",
    "    loss = y.mean()\n",
    "    loss.backward()\n",
    "    for name, param in encoder.named_parameters():\n",
    "        assert param.grad is not None"
   ]
  },
  {
   "cell_type": "code",
   "execution_count": null,
   "metadata": {},
   "outputs": [],
   "source": [
    "encoder_unit_test()"
   ]
  },
  {
   "cell_type": "code",
   "execution_count": null,
   "metadata": {},
   "outputs": [],
   "source": []
  }
 ],
 "metadata": {
  "kernelspec": {
   "display_name": "Python 3.10.4 ('vit')",
   "language": "python",
   "name": "python3"
  },
  "language_info": {
   "codemirror_mode": {
    "name": "ipython",
    "version": 3
   },
   "file_extension": ".py",
   "mimetype": "text/x-python",
   "name": "python",
   "nbconvert_exporter": "python",
   "pygments_lexer": "ipython3",
   "version": "3.10.4"
  },
  "orig_nbformat": 4,
  "vscode": {
   "interpreter": {
    "hash": "afa5cafc83a44ddc6a4432c58e27e1e59e90bf4b5432b3ef6f80dec7803e93f4"
   }
  }
 },
 "nbformat": 4,
 "nbformat_minor": 2
}
